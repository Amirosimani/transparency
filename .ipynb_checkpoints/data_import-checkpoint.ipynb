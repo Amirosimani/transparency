{
 "cells": [
  {
   "cell_type": "code",
   "execution_count": 3,
   "id": "f95293cf-55fc-4e51-aa41-f3ac8c19f527",
   "metadata": {},
   "outputs": [
    {
     "ename": "ModuleNotFoundError",
     "evalue": "No module named 'neo4j'",
     "output_type": "error",
     "traceback": [
      "\u001b[0;31m---------------------------------------------------------------------------\u001b[0m",
      "\u001b[0;31mModuleNotFoundError\u001b[0m                       Traceback (most recent call last)",
      "\u001b[0;32m<ipython-input-3-c60e2f2382de>\u001b[0m in \u001b[0;36m<module>\u001b[0;34m\u001b[0m\n\u001b[1;32m      2\u001b[0m \u001b[0;32mfrom\u001b[0m \u001b[0mtqdm\u001b[0m\u001b[0;34m.\u001b[0m\u001b[0mauto\u001b[0m \u001b[0;32mimport\u001b[0m \u001b[0mtqdm\u001b[0m\u001b[0;34m\u001b[0m\u001b[0;34m\u001b[0m\u001b[0m\n\u001b[1;32m      3\u001b[0m \u001b[0;34m\u001b[0m\u001b[0m\n\u001b[0;32m----> 4\u001b[0;31m \u001b[0;32mfrom\u001b[0m \u001b[0mneo4j\u001b[0m \u001b[0;32mimport\u001b[0m \u001b[0mGraphDatabase\u001b[0m\u001b[0;34m\u001b[0m\u001b[0;34m\u001b[0m\u001b[0m\n\u001b[0m\u001b[1;32m      5\u001b[0m \u001b[0;34m\u001b[0m\u001b[0m\n\u001b[1;32m      6\u001b[0m \u001b[0;34m\u001b[0m\u001b[0m\n",
      "\u001b[0;31mModuleNotFoundError\u001b[0m: No module named 'neo4j'"
     ]
    }
   ],
   "source": [
    "import pandas as pd\n",
    "from tqdm.auto import tqdm\n",
    "\n",
    "from neo4j import GraphDatabase\n",
    "\n",
    "\n",
    "from pydrive.auth import GoogleAuth\n",
    "from pydrive.drive import GoogleDrive\n",
    "from google.colab import auth\n",
    "from oauth2client.client import GoogleCredentials"
   ]
  },
  {
   "cell_type": "code",
   "execution_count": 2,
   "id": "5ee4de10-8b42-423d-b7ff-94e670900f74",
   "metadata": {},
   "outputs": [],
   "source": [
    "# Database Credentials\n",
    "uri             = \"bolt://localhost:7687\"\n",
    "\n",
    "userName        = \"neo4j\"\n",
    "password        = \"11210amir\""
   ]
  },
  {
   "cell_type": "code",
   "execution_count": 29,
   "id": "9fdc3b08-7ee7-41ba-bb08-6604996edf21",
   "metadata": {},
   "outputs": [],
   "source": [
    "# https://neo4j.com/docs/driver-manual/1.7/sessions-transactions/#driver-transactions-transaction-functions\n",
    "\n",
    "class GraphDB(object):\n",
    "\n",
    "    def __init__(self, uri, user, password):\n",
    "        self._driver = GraphDatabase.driver(uri, auth=(user, password))\n",
    "\n",
    "    def close(self):\n",
    "        self._driver.close()\n",
    "\n",
    "    # Create a person node.\n",
    "    @classmethod\n",
    "    def _create_person(cls, tx, person_dict):\n",
    "        name = person_dict[\"name\"]\n",
    "        first_name = person_dict[\"first_name\"]\n",
    "        last_name = person_dict[\"family_name\"]\n",
    "        current_location = person_dict[\"current_location\"]\n",
    "        links = person_dict[\"links\"]\n",
    "        other_names = person_dict[\"other_names\"]\n",
    "        \n",
    "        tx.run(\"MERGE (:Person {name: $name, \\\n",
    "                                first_name: $first_name, \\\n",
    "                                last_name: $last_name, \\\n",
    "                                current_location: $current_location, \\\n",
    "                                links: $links, \\\n",
    "                               other_names: $other_names})\", \n",
    "               name=name,\n",
    "               first_name=first_name,\n",
    "               last_name=last_name,\n",
    "               current_location=current_location,\n",
    "               links=links,\n",
    "               other_names=other_names        \n",
    "              )\n",
    "        \n",
    "        \n",
    "    # Create a org node.\n",
    "    @classmethod\n",
    "    def _create_org(cls, tx, org_dict):\n",
    "        name = org_dict[\"name\"]\n",
    "        location = org_dict[\"location\"]\n",
    "        links = org_dict[\"links\"]\n",
    "        \n",
    "        tx.run(\"MERGE (:Org {name: $name, \\\n",
    "                            location: $location, \\\n",
    "                            links: $links})\", \n",
    "               name=name,\n",
    "               location=location,\n",
    "               links=links,               \n",
    "              )\n",
    "        \n",
    "\n",
    "\n",
    "    def create(self, input_dict, entity_type):\n",
    "        if entity_type == \"person\":\n",
    "            # Create the person\n",
    "            with self._driver.session() as session_a:\n",
    "                session_a.execute_write(self._create_person, input_dict)\n",
    "                \n",
    "        if entity_type == \"org\":\n",
    "            # Create the org\n",
    "            with self._driver.session() as session_a:\n",
    "                session_a.execute_write(self._create_org, input_dict)\n",
    "            "
   ]
  },
  {
   "cell_type": "code",
   "execution_count": 30,
   "id": "b89dcfef-da4e-4e2b-a896-cf2208472fee",
   "metadata": {},
   "outputs": [],
   "source": [
    "df_person = pd.read_csv('./data/shafaf_sazi_nodes-Person.csv')\n",
    "df_person = df_person.fillna('')\n",
    "\n",
    "dict_person = df_person.to_dict(orient='records')"
   ]
  },
  {
   "cell_type": "code",
   "execution_count": 31,
   "id": "ac206ddf-a5d2-43ae-9e77-25d62e40d66c",
   "metadata": {},
   "outputs": [],
   "source": [
    "df_org = pd.read_csv('./data/shafaf_sazi_nodes-Org.csv')\n",
    "df_org = df_org.fillna('')\n",
    "\n",
    "dict_org = df_org.to_dict(orient='records')"
   ]
  },
  {
   "cell_type": "code",
   "execution_count": 32,
   "id": "402b4c75-d44c-4109-b63b-c9d999ddafc4",
   "metadata": {},
   "outputs": [],
   "source": [
    "gdb = GraphDB(uri, userName, password)"
   ]
  },
  {
   "cell_type": "code",
   "execution_count": 33,
   "id": "42cb47cd-e19b-47ff-9798-86f70268370d",
   "metadata": {},
   "outputs": [],
   "source": [
    "for p in dict_person:\n",
    "    gdb.create(p, \"person\")"
   ]
  },
  {
   "cell_type": "code",
   "execution_count": 34,
   "id": "77cbe19b-b0a2-4204-9f5d-6ca4351eb4f7",
   "metadata": {},
   "outputs": [],
   "source": [
    "for o in dict_org:\n",
    "    gdb.create(o, \"org\")"
   ]
  },
  {
   "cell_type": "code",
   "execution_count": null,
   "id": "d15fec4c-dd10-4b71-88e7-7a2395778a44",
   "metadata": {},
   "outputs": [],
   "source": []
  }
 ],
 "metadata": {
  "kernelspec": {
   "display_name": "Python 3",
   "language": "python",
   "name": "python3"
  },
  "language_info": {
   "codemirror_mode": {
    "name": "ipython",
    "version": 3
   },
   "file_extension": ".py",
   "mimetype": "text/x-python",
   "name": "python",
   "nbconvert_exporter": "python",
   "pygments_lexer": "ipython3",
   "version": "3.8.8"
  }
 },
 "nbformat": 4,
 "nbformat_minor": 5
}
